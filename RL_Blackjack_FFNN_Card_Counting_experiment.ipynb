{
 "cells": [
  {
   "cell_type": "code",
   "execution_count": 73,
   "metadata": {
    "id": "7HJsMNStrrUz"
   },
   "outputs": [],
   "source": [
    "import matplotlib.pyplot as plt\n",
    "import numpy as np\n",
    "import random\n",
    "import time\n",
    "from keras import regularizers\n",
    "from keras.callbacks import EarlyStopping\n",
    "from keras.layers import Dense\n",
    "from keras.models import Sequential\n",
    "import keras.optimizers\n",
    "#  Following are utility functions used later."
   ]
  },
  {
   "cell_type": "markdown",
   "metadata": {
    "id": "hlw5rLe9IKCU"
   },
   "source": [
    "Blackjack Utility Functions"
   ]
  },
  {
   "cell_type": "code",
   "execution_count": 74,
   "metadata": {
    "id": "0buaNtr_IE-M"
   },
   "outputs": [],
   "source": [
    "# Check if the hand is a blackjack\n",
    "def is_blackjack(hand):\n",
    "    if len(hand) > 2:\n",
    "        return False\n",
    "    else:\n",
    "        if hand[0] == 1 and hand[1] == 10:\n",
    "            return True\n",
    "        elif hand[1] == 1 and hand[0] == 10:\n",
    "            return True\n",
    "        else:\n",
    "            return False\n",
    "\n",
    "\n",
    "# Check whether we busted    \n",
    "def is_bust(hand):\n",
    "    if sum(hand) > 21:\n",
    "        return True\n",
    "    else:\n",
    "        return False\n",
    "\n",
    "\n",
    "# Calculate score of a hand (takes into account aces)\n",
    "def score_hand(hand):\n",
    "    if 1 in hand:\n",
    "        if sum(hand) + 10 <= 21:\n",
    "            return sum(hand) + 10\n",
    "        else:\n",
    "            return sum(hand)\n",
    "    else:\n",
    "        return sum(hand)\n",
    "\n",
    "\n",
    "# Check whether we have an ace whose value can still be either 1 or 11    \n",
    "def has_usable_ace(hand):\n",
    "    if 1 in hand:\n",
    "        if sum(hand) + 10 <= 21:\n",
    "            return 1\n",
    "        else:\n",
    "            return 0\n",
    "    else:\n",
    "        return 0"
   ]
  },
  {
   "cell_type": "markdown",
   "metadata": {
    "id": "-df80w4TIOV6"
   },
   "source": [
    "Card Utility Functions"
   ]
  },
  {
   "cell_type": "code",
   "execution_count": 75,
   "metadata": {
    "id": "wX7708gFINxs"
   },
   "outputs": [],
   "source": [
    "# shuffle the cards.\n",
    "def shuffle_cards(amount_decks):\n",
    "    deck = []\n",
    "    for d in range(1, amount_decks + 1):\n",
    "        for i in range(1, 11):\n",
    "            if i < 10:\n",
    "                for amount in range(1, 5):\n",
    "                    deck.append(i)\n",
    "            if i == 10:\n",
    "                for amount in range(1, 17):\n",
    "                    deck.append(i)\n",
    "    random.shuffle(deck)  \n",
    "    return deck\n",
    "# draw a card from the deck.\n",
    "def draw_from_deck(deck, update, card_count_score):\n",
    "    if len(deck) > 0:\n",
    "        card = deck.pop(0)\n",
    "        if update:\n",
    "            if card >= 2 and card <= 6:\n",
    "                card_count_score[0] = card_count_score[0] - 1\n",
    "            if card == 1 or card == 10:\n",
    "                card_count_score[0] = card_count_score[0] + 1\n",
    "    else:\n",
    "        print(\"no more cards\")\n",
    "        return 0\n",
    "    return card             "
   ]
  },
  {
   "cell_type": "markdown",
   "metadata": {
    "id": "jFKtakQoIYKE"
   },
   "source": [
    "Player Utility Functions"
   ]
  },
  {
   "cell_type": "code",
   "execution_count": 76,
   "metadata": {
    "id": "rnZoZQmzIYPd"
   },
   "outputs": [],
   "source": [
    "#  Player that does table lookup.\n",
    "def action(player_hand, dealer_open_card, model, shuffle, shuffles, train, card_count_score):\n",
    "    mid_shuffle = shuffles * epsilon_zero_point\n",
    "    epsilon = 0 if not train else  start_epsilon * (max(0, ((mid_shuffle - shuffle) / mid_shuffle)))\n",
    "    #  Calculate all state variables\n",
    "    useable_ace = has_usable_ace(player_hand)\n",
    "    score = score_hand(player_hand)\n",
    "    s = [score, dealer_open_card, useable_ace, card_count_score]\n",
    "    #  Act epsilon-greedy\n",
    "    if random.random() <= epsilon:\n",
    "        a = int((random.random()*100)) % 2\n",
    "    else:\n",
    "        #  Calculate expected payoff of hitting\n",
    "        Q_0 = Q(0, s, model)\n",
    "        #  Calculate expected payoff of sticking\n",
    "        Q_1 = Q(1, s, model)\n",
    "        if Q_0 >= Q_1:\n",
    "            a = 0\n",
    "        if Q_1 > Q_0:\n",
    "            a = 1\n",
    "    s.append(a)\n",
    "    return s\n",
    "\n",
    "def Q(action,state,model):\n",
    "    Q_hat = nn_evaluate(action, state, model)\n",
    "    return Q_hat\n",
    "    "
   ]
  },
  {
   "cell_type": "markdown",
   "metadata": {
    "id": "DItA6HdxIxU0"
   },
   "source": [
    "Neural Network Utility Functions"
   ]
  },
  {
   "cell_type": "code",
   "execution_count": 77,
   "metadata": {
    "id": "gqh3eHSMIxdR"
   },
   "outputs": [],
   "source": [
    "alpha = 0.05\n",
    "epochs = 20\n",
    "counter = 0\n",
    "start_epsilon = 0.1\n",
    "\n",
    "def create_neural_network(layers, activations):\n",
    "  x = [[21, 9, 0, 1, 0], [15, 10, 0, 1, 1], [16, 4, 1, 0, -1], [18, 7, 0, 0, 0]]\n",
    "  x = np.array(x)\n",
    "  x = x.reshape(4, 5)\n",
    "  y = [1, -0.7, 0.6, -1]\n",
    "  y = np.array(y)\n",
    "  model = Sequential()\n",
    "  model.add(Dense(layers[0], input_dim=5, activation = activations[0]))\n",
    "  model.add(Dense(layers[1], activation = activations[1]))\n",
    "  model.add(Dense(1, activation = activations[2], kernel_regularizer=regularizers.l1(0.01)))\n",
    "  opt = keras.optimizers.Adam(learning_rate=0.00005)\n",
    "  model.compile(loss='mse', optimizer=opt)\n",
    "  model.fit(epochs=epochs,x=x , y=y , verbose=0)\n",
    "  return model\n",
    "\n",
    "#  Trains the neural network.\n",
    "def nn_train(action, state, reward, next_action, next_state, terminal, model):\n",
    "    global counter\n",
    "    x = state.copy()\n",
    "    x.append(action)\n",
    "    x = np.array(x)\n",
    "    x = x.reshape(1, 5)\n",
    "    if terminal:\n",
    "        y = reward\n",
    "    else:\n",
    "        y = reward + nn_evaluate(next_action, next_state, model)\n",
    "    y = np.array(y)\n",
    "    y = y.reshape(1, 1)\n",
    "    epochs = 10\n",
    "    model.fit(epochs=epochs, x=x, y=y, verbose=0)\n",
    "    return model\n",
    "\n",
    "# Evaluates the neural network.\n",
    "def nn_evaluate(action, state, model):\n",
    "    x = state.copy()\n",
    "    x.append(action)\n",
    "    x = np.array(x)\n",
    "    x = x.reshape(1, 5)\n",
    "    Q_hat = model.predict(x, verbose=0)\n",
    "    return Q_hat\n"
   ]
  },
  {
   "cell_type": "markdown",
   "metadata": {
    "id": "EQLdKY5yJGcy"
   },
   "source": [
    "Initialisation of State"
   ]
  },
  {
   "cell_type": "code",
   "execution_count": 78,
   "metadata": {
    "id": "OvOUI6zjJFA7"
   },
   "outputs": [],
   "source": [
    "#Input variables for the game\n",
    "amount_decks = 6\n",
    "players = 1\n",
    "shuffles = 1000\n",
    "cards_required = 6\n",
    "epsilon_zero_point = 0.6"
   ]
  },
  {
   "cell_type": "code",
   "execution_count": 79,
   "metadata": {
    "id": "lBmqpR1WtO7J"
   },
   "outputs": [],
   "source": [
    "# Play until the deck has been shuffled a certain amount of times\n",
    "def play_for_shuffles(shuffles, train = True, model = create_neural_network(layers = [70, 70], activations = ['relu', 'relu', 'linear'])):\n",
    "    # Track the rewards\n",
    "    total_reward = 0\n",
    "    total_reward_vec = []\n",
    "\n",
    "    # Track what happend each game\n",
    "    player_blackjack_dealer_blackjack = 0\n",
    "    player_blackjack = 0\n",
    "    player_busts = 0\n",
    "    dealer_busts = 0\n",
    "    dealer_win = 0\n",
    "    player_win = 0\n",
    "    draw = 0\n",
    "    start_time = time.time()\n",
    "\n",
    "    card_count_frequency = []\n",
    "    for card_count_score in range(-50,51):\n",
    "        card_count_frequency.append(0)\n",
    "\n",
    "    for shuffle in range(1, shuffles + 1):\n",
    "        if shuffle % 100 == 0:\n",
    "            print(\"shuffle: \" + str(shuffle))\n",
    "        deck = shuffle_cards(amount_decks)\n",
    "\n",
    "        # Play until the deck has to be shuffled\n",
    "        card_count_score = []\n",
    "        card_count_score.append(0)\n",
    "        while (len(deck) > cards_required * (players + 1)):\n",
    "\n",
    "            # Set the size of the reward (bet size)\n",
    "            reward = 1\n",
    "\n",
    "            # Deal hands to both players\n",
    "            player_hand = []\n",
    "            dealer_hand = []\n",
    "            for i in range(0, 2):\n",
    "                player_hand.append(draw_from_deck(deck, True, card_count_score))\n",
    "                if i == 0:\n",
    "                    dealer_hand.append(draw_from_deck(deck, True, card_count_score))\n",
    "                else:\n",
    "                    dealer_hand.append(draw_from_deck(deck, False, card_count_score))\n",
    "            dealer_open_card = dealer_hand[0]\n",
    "\n",
    "            # If our score is less than or equal to 11, we always hit\n",
    "            while (score_hand(player_hand) <= 11):\n",
    "                player_hand.append(draw_from_deck(deck, True, card_count_score))\n",
    "\n",
    "            # Keep the game going until we hit a terminal state\n",
    "            first_move = True\n",
    "            next_state_action = []\n",
    "            while (True):\n",
    "                # Check whether player has blackjack\n",
    "                if is_blackjack(player_hand):\n",
    "                    # Check whether the dealer also has blackjack\n",
    "                    if is_blackjack(dealer_hand):\n",
    "                        player_blackjack_dealer_blackjack = player_blackjack_dealer_blackjack + 1\n",
    "                        reward = reward * 0\n",
    "                        break\n",
    "                    else:\n",
    "                        player_blackjack = player_blackjack + 1\n",
    "                        reward = reward * 1\n",
    "                        break\n",
    "\n",
    "                if first_move:\n",
    "                    # Let the player take an action\n",
    "                    state_action = action(player_hand, dealer_open_card, model, shuffle, shuffles, train, card_count_score[0])\n",
    "                    card_count_frequency[card_count_score[0] + 50] = 1 + card_count_frequency[card_count_score[0] + 50]\n",
    "                    player_action = state_action.pop(len(state_action) - 1)\n",
    "                    state = state_action\n",
    "                else:\n",
    "                    # Use the action already decided\n",
    "                    state_action = next_state_action\n",
    "                    player_action = state_action.pop(len(state_action) - 1)\n",
    "                    state = state_action\n",
    "\n",
    "                # Hit\n",
    "                if player_action == 0:\n",
    "                    player_hand.append(draw_from_deck(deck, True, card_count_score))\n",
    "                    # Check whether we busted\n",
    "                    if is_bust(player_hand):\n",
    "                        player_busts = player_busts + 1\n",
    "                        reward = reward * - 1\n",
    "                        if train:\n",
    "                            model = nn_train(player_action, state, reward, 0, 0, True, model)\n",
    "                        break\n",
    "                    # Decide next action (we do it here already, so that we can use it to train)\n",
    "                    first_move = False\n",
    "                    next_state_action = action(player_hand, dealer_open_card, model, shuffle, shuffles, train, card_count_score[0])\n",
    "                    card_count_frequency[card_count_score[0] + 50] = 1 + card_count_frequency[card_count_score[0] + 50]\n",
    "                    next_player_action = next_state_action.pop(len(next_state_action) - 1)\n",
    "                    next_state = next_state_action\n",
    "                    if train:\n",
    "                        model = nn_train(player_action, state, 0, next_player_action, next_state, False, model)\n",
    "                    next_state_action.append(next_player_action)\n",
    "\n",
    "                # Stick\n",
    "                if player_action == 1:\n",
    "                    # Play out the dealer\n",
    "                    while (score_hand(dealer_hand) < 17):\n",
    "                        dealer_hand.append(draw_from_deck(deck, False, card_count_score))\n",
    "                    # Dealer busts\n",
    "                    if score_hand(dealer_hand) > 21:\n",
    "                        dealer_busts = dealer_busts + 1\n",
    "                        reward = reward * 1\n",
    "                        if train:\n",
    "                            model = nn_train(player_action, state, reward, 0, 0, True, model)\n",
    "                        break\n",
    "                    # Dealer wins\n",
    "                    elif score_hand(dealer_hand) > score_hand(player_hand):\n",
    "                        dealer_win = dealer_win + 1\n",
    "                        reward = reward * -1\n",
    "                        if train:\n",
    "                            model = nn_train(player_action, state, reward, 0, 0, True, model)\n",
    "                        break\n",
    "                    # Player wins\n",
    "                    elif score_hand(dealer_hand) < score_hand(player_hand):\n",
    "                        player_win = player_win + 1\n",
    "                        reward = reward * 1\n",
    "                        if train:\n",
    "                            model = nn_train(player_action, state, reward, 0, 0, True, model)\n",
    "                        break\n",
    "                    # Draw\n",
    "                    else:\n",
    "                        draw = draw + 1\n",
    "                        reward = reward * 0\n",
    "                        if train:\n",
    "                            model = nn_train(player_action, state, reward, 0, 0, True, model)\n",
    "                        break\n",
    "            # Update total reward\n",
    "            total_reward = total_reward + reward\n",
    "            total_reward_vec.append(total_reward)\n",
    "            if shuffle == int(shuffles * epsilon_zero_point):\n",
    "                index = len(total_reward_vec)\n",
    "    model.save_weights('weights')\n",
    "    print(\"--- %s seconds ---\" % (time.time() - start_time))\n",
    "    return total_reward_vec, model, index  \n"
   ]
  },
  {
   "cell_type": "code",
   "execution_count": 80,
   "metadata": {
    "colab": {
     "background_save": true,
     "base_uri": "https://localhost:8080/"
    },
    "id": "TWIr381xJj5X",
    "outputId": "de7e80b0-33ed-46b4-be07-e9d16f4e748d"
   },
   "outputs": [
    {
     "name": "stdout",
     "output_type": "stream",
     "text": [
      "shuffle: 100\n",
      "shuffle: 200\n",
      "shuffle: 300\n",
      "shuffle: 400\n",
      "shuffle: 500\n",
      "shuffle: 600\n",
      "shuffle: 700\n",
      "shuffle: 800\n",
      "shuffle: 900\n",
      "shuffle: 1000\n",
      "--- 622.7235450744629 seconds ---\n"
     ]
    }
   ],
   "source": [
    "total_reward_vec, model, index = play_for_shuffles(shuffles, train = True)"
   ]
  },
  {
   "cell_type": "markdown",
   "metadata": {
    "id": "WBDNIyZ7JpNp"
   },
   "source": [
    "Plot Results"
   ]
  },
  {
   "cell_type": "code",
   "execution_count": 81,
   "metadata": {
    "colab": {
     "background_save": true
    },
    "id": "_2Jjmn1MJuSt",
    "outputId": "9518145e-98b2-491a-f281-7d7628b8c1f3"
   },
   "outputs": [
    {
     "data": {
      "image/png": "[encoded data removed]",
      "text/plain": [
       "<Figure size 432x288 with 1 Axes>"
      ]
     },
     "metadata": {
      "needs_background": "light"
     },
     "output_type": "display_data"
    },
    {
     "name": "stdout",
     "output_type": "stream",
     "text": [
      "Stored 'total_reward_vec_NN_cardcount_training' (list)\n"
     ]
    },
    {
     "data": {
      "image/png": "[encoded data removed]",
      "text/plain": [
       "<Figure size 432x288 with 1 Axes>"
      ]
     },
     "metadata": {
      "needs_background": "light"
     },
     "output_type": "display_data"
    }
   ],
   "source": [
    "# Plot total reward \n",
    "plt.figure(1)\n",
    "plt.plot(total_reward_vec)\n",
    "plt.title('Total reward over games during training, average reward: ' + str(total_reward_vec[-1] / len(total_reward_vec)))\n",
    "plt.xlabel('games')\n",
    "plt.ylabel('total reward')\n",
    "plt.show()\n",
    "total_reward_vec_NN_cardcount_training=total_reward_vec.copy()\n",
    "%store total_reward_vec_NN_cardcount_training\n",
    "# Plot total reward \n",
    "plt.figure(2)\n",
    "correction = total_reward_vec[index]\n",
    "for i in range(0, len(total_reward_vec)):\n",
    "    total_reward_vec[i] = total_reward_vec[i] - correction \n",
    "total_reward_vec = total_reward_vec[index + 1 : len(total_reward_vec)]   \n",
    "plt.plot(total_reward_vec)\n",
    "plt.title('Total reward over games during training with epsilon=0, average reward: ' + str(total_reward_vec[-1] / len(total_reward_vec)))\n",
    "plt.xlabel('games')\n",
    "plt.ylabel('total reward')\n",
    "plt.show()"
   ]
  },
  {
   "cell_type": "markdown",
   "metadata": {
    "id": "OHbGwdKlsU4t"
   },
   "source": [
    "100 Shuffles for Validation"
   ]
  },
  {
   "cell_type": "code",
   "execution_count": 82,
   "metadata": {
    "colab": {
     "background_save": true
    },
    "id": "9tA-uxTusHDp",
    "outputId": "cf8af3a3-2f1b-423b-c808-b15eb4c5acaf"
   },
   "outputs": [
    {
     "name": "stdout",
     "output_type": "stream",
     "text": [
      "shuffle: 100\n",
      "--- 7.341859579086304 seconds ---\n"
     ]
    }
   ],
   "source": [
    "total_reward_vec, model, index = play_for_shuffles(100, train = False, model = model)"
   ]
  },
  {
   "cell_type": "markdown",
   "metadata": {
    "id": "beKpfgOV1gLo"
   },
   "source": [
    "Validation Reward Plotting"
   ]
  },
  {
   "cell_type": "code",
   "execution_count": 83,
   "metadata": {
    "colab": {
     "background_save": true
    },
    "id": "pXMuoExOsKa9",
    "outputId": "b6728314-61a9-48eb-8bc5-4bab3964d4a9"
   },
   "outputs": [
    {
     "data": {
      "image/png": "[encoded data removed]",
      "text/plain": [
       "<Figure size 432x288 with 1 Axes>"
      ]
     },
     "metadata": {
      "needs_background": "light"
     },
     "output_type": "display_data"
    },
    {
     "name": "stdout",
     "output_type": "stream",
     "text": [
      "Stored 'total_reward_vec_NN_cardcount' (list)\n"
     ]
    }
   ],
   "source": [
    "# Plot total reward \n",
    "plt.figure(3)\n",
    "plt.plot(total_reward_vec)\n",
    "plt.title('Total reward over games for performance measure, average reward: ' + str(total_reward_vec[-1] / len(total_reward_vec)))\n",
    "plt.xlabel('games')\n",
    "plt.ylabel('total reward')\n",
    "savelocation=\"rewards_NN_cardcount.png\"\n",
    "plt.savefig(savelocation)\n",
    "plt.show()\n",
    "r_notrain=total_reward_vec[-1] / len(total_reward_vec)\n",
    "total_reward_vec_NN_cardcount=total_reward_vec.copy()\n",
    "%store total_reward_vec_NN_cardcount"
   ]
  },
  {
   "cell_type": "markdown",
   "metadata": {
    "id": "bFozP050R96D"
   },
   "source": [
    "100 Shuffles for Further Training to Validate Convergence\n"
   ]
  },
  {
   "cell_type": "code",
   "execution_count": 84,
   "metadata": {
    "colab": {
     "background_save": true
    },
    "id": "CaHu1ZkgR9Lq",
    "outputId": "fcd2cef8-3a91-4b08-bfea-a63fe414a1b0"
   },
   "outputs": [
    {
     "name": "stdout",
     "output_type": "stream",
     "text": [
      "shuffle: 100\n",
      "--- 69.47135996818542 seconds ---\n"
     ]
    }
   ],
   "source": [
    "total_reward_vec, model, _ = play_for_shuffles(100, train = True, model = model)\n",
    "eta = 0.02"
   ]
  },
  {
   "cell_type": "markdown",
   "metadata": {
    "id": "pjtgRIRJSVm_"
   },
   "source": [
    "100 Validation Shuffles to check Convergence"
   ]
  },
  {
   "cell_type": "code",
   "execution_count": 85,
   "metadata": {
    "id": "Unpj8IzRScEx"
   },
   "outputs": [
    {
     "name": "stdout",
     "output_type": "stream",
     "text": [
      "shuffle: 100\n",
      "--- 6.998943328857422 seconds ---\n"
     ]
    }
   ],
   "source": [
    "total_reward_vec, model, _ = play_for_shuffles(100, train = False, model = model)\n",
    "r_train=total_reward_vec[-1] / len(total_reward_vec)"
   ]
  },
  {
   "cell_type": "markdown",
   "metadata": {
    "id": "0j7KJOksSek6"
   },
   "source": [
    "Final Validation Convergence Plot"
   ]
  },
  {
   "cell_type": "code",
   "execution_count": 86,
   "metadata": {
    "colab": {
     "base_uri": "https://localhost:8080/",
     "height": 311
    },
    "id": "dM1FfYc-Smas",
    "outputId": "ee0983d1-258e-47cb-f012-fcced1b579db"
   },
   "outputs": [
    {
     "data": {
      "image/png": "[encoded data removed]",
      "text/plain": [
       "<Figure size 432x288 with 1 Axes>"
      ]
     },
     "metadata": {
      "needs_background": "light"
     },
     "output_type": "display_data"
    },
    {
     "name": "stdout",
     "output_type": "stream",
     "text": [
      "|r_notrain-r_train|=|-0.059441826748822035+-0.0708076783773995|=0.011365851628577464, which is less than eta, hence convergence\n"
     ]
    }
   ],
   "source": [
    "# Plot total reward \n",
    "plt.figure(4)\n",
    "plt.plot(total_reward_vec)\n",
    "plt.title('Total reward over games for convergence validation, average reward: ' + str(total_reward_vec[-1] / len(total_reward_vec)))\n",
    "plt.xlabel('games')\n",
    "plt.ylabel('total reward')\n",
    "plt.show()\n",
    "\n",
    "if abs(r_notrain-r_train)<eta:\n",
    "    print('|r_notrain-r_train|=|' + str(r_notrain) + \"+\" + str(r_train) + \"|=\" + str(abs(r_notrain-r_train)) + \", which is less than eta, hence convergence\")\n",
    "else:\n",
    "    print('|r_notrain-r_train|=|' + str(r_notrain) + \"+\" + str(r_train) + \"|=\" + str(abs(r_notrain-r_train)) + \", which is more than eta, hence no convergence\")"
   ]
  }
 ],
 "metadata": {
  "colab": {
   "collapsed_sections": [],
   "name": "RL Blackjack Neural Net Card Count One.ipynb",
   "provenance": []
  },
  "kernelspec": {
   "display_name": "Python 3",
   "language": "python",
   "name": "python3"
  },
  "language_info": {
   "codemirror_mode": {
    "name": "ipython",
    "version": 3
   },
   "file_extension": ".py",
   "mimetype": "text/x-python",
   "name": "python",
   "nbconvert_exporter": "python",
   "pygments_lexer": "ipython3",
   "version": "3.7.4"
  }
 },
 "nbformat": 4,
 "nbformat_minor": 4
}
